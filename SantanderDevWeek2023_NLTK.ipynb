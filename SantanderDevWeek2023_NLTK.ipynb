{
  "nbformat": 4,
  "nbformat_minor": 0,
  "metadata": {
    "colab": {
      "provenance": [],
      "collapsed_sections": [
        "kNuP0SDUZMBY"
      ],
      "include_colab_link": true
    },
    "kernelspec": {
      "name": "python3",
      "display_name": "Python 3"
    },
    "language_info": {
      "name": "python"
    }
  },
  "cells": [
    {
      "cell_type": "markdown",
      "metadata": {
        "id": "view-in-github",
        "colab_type": "text"
      },
      "source": [
        "<a href=\"https://colab.research.google.com/github/IngbA/ETL_PYTHON/blob/main/SantanderDevWeek2023_NLTK.ipynb\" target=\"_parent\"><img src=\"https://colab.research.google.com/assets/colab-badge.svg\" alt=\"Open In Colab\"/></a>"
      ]
    },
    {
      "cell_type": "markdown",
      "source": [
        "# Santander Dev Week 2023 (ETL com Python)"
      ],
      "metadata": {
        "id": "BPJQsTCULaC-"
      }
    },
    {
      "cell_type": "markdown",
      "source": [
        "**Contexto:** Você é um cientista de dados no Santander e recebeu a tarefa de envolver seus clientes de maneira mais personalizada. Seu objetivo é usar o poder da IA Generativa para criar mensagens de marketing personalizadas que serão entregues a cada cliente.\n",
        "\n",
        "**Condições do Problema:**\n",
        "\n",
        "1. Você recebeu uma planilha simples, em formato CSV ('SDW2023.csv'), com uma lista de IDs de usuário do banco:\n",
        "  ```\n",
        "  UserID\n",
        "  1\n",
        "  2\n",
        "  3\n",
        "  4\n",
        "  5\n",
        "  ```\n",
        "2. Seu trabalho é consumir o endpoint `GET https://sdw-2023-prd.up.railway.app/users/{id}` (API da Santander Dev Week 2023) para obter os dados de cada cliente.\n",
        "3. Depois de obter os dados dos clientes, você vai usar a API do ChatGPT (OpenAI) para gerar uma mensagem de marketing personalizada para cada cliente. Essa mensagem deve enfatizar a importância dos investimentos.\n",
        "4. Uma vez que a mensagem para cada cliente esteja pronta, você vai enviar essas informações de volta para a API, atualizando a lista de \"news\" de cada usuário usando o endpoint `PUT https://sdw-2023-prd.up.railway.app/users/{id}`.\n",
        "\n"
      ],
      "metadata": {
        "id": "k5fA5OrXt1a3"
      }
    },
    {
      "cell_type": "code",
      "source": [
        "# Utilize sua própria URL se quiser ;)\n",
        "# Repositório da API: https://github.com/digitalinnovationone/santander-dev-week-2023-api\n",
        "sdw2023_api_url = 'https://sdw-2023-prd.up.railway.app'"
      ],
      "metadata": {
        "id": "FKqLC_CWoYqR"
      },
      "execution_count": null,
      "outputs": []
    },
    {
      "cell_type": "markdown",
      "source": [
        "## **E**xtract\n",
        "\n",
        "Extraia a lista de IDs de usuário a partir do arquivo CSV. Para cada ID, faça uma requisição GET para obter os dados do usuário correspondente."
      ],
      "metadata": {
        "id": "9dfI-o7gLRq9"
      }
    },
    {
      "cell_type": "code",
      "execution_count": null,
      "metadata": {
        "id": "NYydpX_GLRCB",
        "colab": {
          "base_uri": "https://localhost:8080/"
        },
        "outputId": "0a94506c-928b-46f2-e6d8-45567e07109a"
      },
      "outputs": [
        {
          "output_type": "stream",
          "name": "stdout",
          "text": [
            "[1, 2, 3, 4, 5]\n"
          ]
        }
      ],
      "source": [
        "import pandas as pd\n",
        "import requests\n",
        "import json\n",
        "\n",
        "df = pd.read_csv('SDW2023.csv')\n",
        "user_ids = df['UserID'].tolist()\n",
        "print(user_ids)"
      ]
    },
    {
      "cell_type": "markdown",
      "source": [
        "#Configurando a API para uso do NLTK"
      ],
      "metadata": {
        "id": "EM3Fgn3gmT4w"
      }
    },
    {
      "cell_type": "code",
      "source": [
        "sdw2023_api_url = 'https://sdw-2023-prd.up.railway.app'"
      ],
      "metadata": {
        "id": "3Z_3WjH1jfkV"
      },
      "execution_count": null,
      "outputs": []
    },
    {
      "cell_type": "markdown",
      "source": [
        "#Leitura dos IDs"
      ],
      "metadata": {
        "id": "D-NKk5AHmjMQ"
      }
    },
    {
      "cell_type": "code",
      "source": [
        "def ler_ids_usuarios():\n",
        "  df = pd.read_csv('SDW2023.csv')\n",
        "  user_ids = df['UserID'].tolist()\n",
        "  print(f'Ids de Usuario lidos: {user_ids}')\n",
        "  return user_ids\n",
        "\n",
        "print(df)"
      ],
      "metadata": {
        "colab": {
          "base_uri": "https://localhost:8080/"
        },
        "id": "zcNfslGImoTO",
        "outputId": "16302866-2545-4849-e1e8-df21cb03ca84"
      },
      "execution_count": null,
      "outputs": [
        {
          "output_type": "stream",
          "name": "stdout",
          "text": [
            "   UserID\n",
            "0       1\n",
            "1       2\n",
            "2       3\n",
            "3       4\n",
            "4       5\n"
          ]
        }
      ]
    },
    {
      "cell_type": "markdown",
      "source": [
        "#Obtendo dados de usuario pela API"
      ],
      "metadata": {
        "id": "s_s9EFc0nvA6"
      }
    },
    {
      "cell_type": "code",
      "source": [
        "def obter_dados_usuario(id):\n",
        "  response = requests.get(f'{sdw2023_api_url}/users/{id}')\n",
        "  return response.json() if response.status_code == 200 else None\n",
        "\n",
        "users = [user for id in user_ids if (user := obter_dados_usuario(id)) is not None]\n",
        "print(json.dumps(users, indent=2))"
      ],
      "metadata": {
        "colab": {
          "base_uri": "https://localhost:8080/"
        },
        "id": "S7gt9oZan2iY",
        "outputId": "2b917cb2-6700-402f-b8a6-95fda5dfcf0a"
      },
      "execution_count": null,
      "outputs": [
        {
          "output_type": "stream",
          "name": "stdout",
          "text": [
            "[\n",
            "  {\n",
            "    \"id\": 1,\n",
            "    \"name\": \"Devweekerson\",\n",
            "    \"account\": {\n",
            "      \"id\": 1,\n",
            "      \"number\": \"01.097954-4\",\n",
            "      \"agency\": \"2030\",\n",
            "      \"balance\": 624.12,\n",
            "      \"limit\": 1000.0\n",
            "    },\n",
            "    \"card\": {\n",
            "      \"id\": 1,\n",
            "      \"number\": \"xxxx xxxx xxxx 1111\",\n",
            "      \"limit\": 2000.0\n",
            "    },\n",
            "    \"features\": [\n",
            "      {\n",
            "        \"id\": 1,\n",
            "        \"icon\": \"https://digitalinnovationone.github.io/santander-dev-week-2023-api/icons/pix.svg\",\n",
            "        \"description\": \"PIX\"\n",
            "      },\n",
            "      {\n",
            "        \"id\": 2,\n",
            "        \"icon\": \"https://digitalinnovationone.github.io/santander-dev-week-2023-api/icons/pay.svg\",\n",
            "        \"description\": \"Pagar\"\n",
            "      },\n",
            "      {\n",
            "        \"id\": 3,\n",
            "        \"icon\": \"https://digitalinnovationone.github.io/santander-dev-week-2023-api/icons/transfer.svg\",\n",
            "        \"description\": \"Transferir\"\n",
            "      },\n",
            "      {\n",
            "        \"id\": 4,\n",
            "        \"icon\": \"https://digitalinnovationone.github.io/santander-dev-week-2023-api/icons/account.svg\",\n",
            "        \"description\": \"Conta Corrente\"\n",
            "      },\n",
            "      {\n",
            "        \"id\": 5,\n",
            "        \"icon\": \"https://digitalinnovationone.github.io/santander-dev-week-2023-api/icons/cards.svg\",\n",
            "        \"description\": \"Cart\\u00f5es\"\n",
            "      }\n",
            "    ],\n",
            "    \"news\": [\n",
            "      {\n",
            "        \"id\": 1,\n",
            "        \"icon\": \"https://digitalinnovationone.github.io/santander-dev-week-2023-api/icons/credit.svg\",\n",
            "        \"description\": \"O Santander tem solu\\u00e7\\u00f5es de cr\\u00e9dito sob medida pra voc\\u00ea. Confira!\"\n",
            "      },\n",
            "      {\n",
            "        \"id\": 2,\n",
            "        \"icon\": \"https://digitalinnovationone.github.io/santander-dev-week-2023-api/icons/insurance.svg\",\n",
            "        \"description\": \"Santander Seguro Casa, seu faz-tudo. Mais de 50 servi\\u00e7os pra voc\\u00ea. Confira!\"\n",
            "      }\n",
            "    ]\n",
            "  }\n",
            "]\n"
          ]
        }
      ]
    },
    {
      "cell_type": "markdown",
      "source": [
        "#Geracao de Mensagens de Marketing Personalizadas"
      ],
      "metadata": {
        "id": "Tx96TvtQre-k"
      }
    },
    {
      "cell_type": "code",
      "source": [
        "from nltk.corpus import stopwords\n",
        "from nltk.tokenize import word_tokenize\n",
        "\n",
        "# Função para gerar mensagem de marketing com base em regras\n",
        "def gerar_mensagem_mkt(user):\n",
        "    message = f\"Olá {user['name']}! Acreditamos que investir é o caminho para o sucesso financeiro. \\\n",
        "                \\nVenha descobrir nossos produtos e comece a investir hoje mesmo!\"\n",
        "    return message\n",
        "\n",
        "# Supondo que você tenha uma lista de usuários chamada 'users'\n",
        "for user in users:\n",
        "    nova_mensagem = gerar_mensagem_mkt(user)\n",
        "    print(nova_mensagem)\n",
        "    user['news'].append({\n",
        "        \"icon\": \"https://digitalinnovationone.github.io/santander-dev-week-2023-api/icons/credit.svg\",\n",
        "        \"description\": nova_mensagem\n",
        "    })"
      ],
      "metadata": {
        "colab": {
          "base_uri": "https://localhost:8080/"
        },
        "id": "jtT2m4rtnxPe",
        "outputId": "8c787e85-d539-46ff-dcb5-1dda5966cfa4"
      },
      "execution_count": null,
      "outputs": [
        {
          "output_type": "stream",
          "name": "stdout",
          "text": [
            "Olá Devweekerson! Acreditamos que investir é o caminho para o sucesso financeiro.                 \n",
            "Venha descobrir nossos produtos e comece a investir hoje mesmo!\n"
          ]
        }
      ]
    },
    {
      "cell_type": "markdown",
      "source": [
        "#Atualizacao de novos usurarios"
      ],
      "metadata": {
        "id": "9sdGS1JRvoH4"
      }
    },
    {
      "cell_type": "code",
      "source": [
        "def atualizar_novos_usuarios(user):\n",
        "    response = requests.put(f\"{sdw2023_api_url}/users/{user['id']}\", json=user)\n",
        "    return True if response.status_code == 200 else False\n",
        "\n",
        "def execucao_completa():\n",
        "    user_ids = ler_ids_usuarios()\n",
        "    users = [user for id in user_ids if (user := obter_dados_usuario(id)) is not None]\n",
        "\n",
        "    for user in users:\n",
        "        nova_mensagem = gerar_mensagem_mkt(user)\n",
        "        print(nova_mensagem)\n",
        "        user['news'].append({\n",
        "            \"icon\": \"https://digitalinnovationone.github.io/santander-dev-week-2023-api/icons/credit.svg\",\n",
        "            \"description\": nova_mensagem\n",
        "        })\n",
        "\n",
        "    for user in users:\n",
        "        success = atualizar_novos_usuarios(user)\n",
        "        print(f\"Usuario {user['name']} atualizado? {success}!\")\n",
        "\n",
        "execucao_completa()"
      ],
      "metadata": {
        "colab": {
          "base_uri": "https://localhost:8080/"
        },
        "id": "qsGrLO8q2Mez",
        "outputId": "3de2a793-09b3-446c-904e-001dc9f5fb12"
      },
      "execution_count": null,
      "outputs": [
        {
          "output_type": "stream",
          "name": "stdout",
          "text": [
            "Ids de Usuario lidos: [1, 2, 3, 4, 5]\n",
            "Olá Devweekerson! Acreditamos que investir é o caminho para o sucesso financeiro.                 \n",
            "Venha descobrir nossos produtos e comece a investir hoje mesmo!\n",
            "Usuario Devweekerson atualizado? False!\n"
          ]
        }
      ]
    },
    {
      "cell_type": "markdown",
      "source": [
        "## **L**oad\n",
        "\n",
        "Atualize a lista de \"news\" de cada usuário na API com a nova mensagem gerada."
      ],
      "metadata": {
        "id": "kNuP0SDUZMBY"
      }
    },
    {
      "cell_type": "code",
      "source": [
        "def update_user(user):\n",
        "  response = requests.put(f\"{sdw2023_api_url}/users/{user['id']}\", json=user)\n",
        "  return True if response.status_code == 200 else False\n",
        "\n",
        "for user in users:\n",
        "  success = update_user(user)\n",
        "  print(f\"User {user['name']} updated? {success}!\")"
      ],
      "metadata": {
        "id": "YefWfYBoZMN2",
        "colab": {
          "base_uri": "https://localhost:8080/"
        },
        "outputId": "019a2087-604c-4324-d406-20bd0d4f9aa5"
      },
      "execution_count": null,
      "outputs": [
        {
          "output_type": "stream",
          "name": "stdout",
          "text": [
            "User Devweekerson updated? False!\n"
          ]
        }
      ]
    }
  ]
}